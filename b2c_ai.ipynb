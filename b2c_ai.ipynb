{
 "cells": [
  {
   "cell_type": "markdown",
   "metadata": {
    "collapsed": false
   },
   "source": [
    "# Monetize B2C AI solutions"
   ]
  },
  {
   "attachments": {},
   "cell_type": "markdown",
   "metadata": {
    "collapsed": false
   },
   "source": [
    "### What is B2C?\n",
    "\n",
    "<p>B2C stands for <b>business to Consumer.</b> B2C in today's world refers to <i>e-commerce transactions, with comapanies selling product online directly to consumers.</i> B2C is among the four e-commerce categories. others includes</p>\n",
    "<ul>\n",
    "<li>B2B(business to business)</li>\n",
    "<li>C2B(customer to business)</li>\n",
    "<li>C2C(customer to customer)</li>\n",
    "\n",
    "</ul>\n"
   ]
  },
  {
   "cell_type": "markdown",
   "metadata": {
    "collapsed": false
   },
   "source": [
    "### What are the possible ways to monetize B2C AI solution?\n",
    "\n",
    "<p>There are several ways to monetize B2C AI solution in the future. Below are some possible ways.</p>\n",
    "\n",
    "<dl>\n",
    "<dt>Selling Intelligent Product:</dt>\n",
    "<dd>AI solutions can include business intelligence software, automated workflows, recommendation engines, chatbots with natural language processing, personalized ads, and more. if you build innovatative AI-driven products that solve real-world problems for consumers, there is alway a market waiting to utilze them.</dd>\n",
    "<dt>Data as a Service(Daas):</dt>\n",
    "<dd>With B2C AI solutions generating and processing a massive amount of data, businesses can monetize this data by offering it to interested comapanies. Data as a services (DaaS) involves selling access to large, valuable sets of information that businesses need to create their models, enrich their products, or train AI algorithms.<dd>\n",
    "\n",
    "<dt>Licensing to Third Parties</dt>\n",
    "<dd>Licensing AI technology for use by third parties can generate income as well. For example, an AI service provider could license certain parts of its AI technology or data and then profit from royalties paid by third parties who make use of these partts or services.</dd>\n",
    "<dt>Affliate marketing</dt>\n",
    "<dd>Affliate marketing includes promoting another brand's product and earning a commission for sales you generate. it works by partnering with brands in order to track unique links, coupon codes, or  other promotional materials that link to the original product. </dd>\n",
    "<dt>Subscriptions or Pay-per-use</dt>\n",
    "<dd>Bulding a subscription-based model a top your product is one of the primary revenue streams for B2C AI solutiond.This business model could be monthly, annually, or any other recurring period. The pay-per-use model charges per usage or even per query instead of subscription fees.</dd>\n",
    "</dl>\n",
    "\n",
    "#### Which is the best?"
   ]
  },
  {
   "cell_type": "markdown",
   "source": [
    "### Selling Intelligent Product(Recommendation Engines):\n",
    "\n",
    "##### How recommendation System can be used to monetize B2C AI Solution?\n",
    "<p>Recommender systems are at the heart of many e-commerce websites such as Netflix, Amazon and LinkedIn. Data from Netflix's site shows that 80% of what people watch comes from their recommendation algorithm. As a result, recommender systems generate over $1 billion per year of Netflix's revenue</p>"
   ],
   "metadata": {
    "collapsed": false
   }
  },
  {
   "cell_type": "markdown",
   "source": [
    "![recommendation](image/recommendation-engines.jpg)"
   ],
   "metadata": {
    "collapsed": false
   }
  },
  {
   "cell_type": "markdown",
   "source": [
    "### How to Implement Recommender System?"
   ],
   "metadata": {
    "collapsed": false
   }
  },
  {
   "cell_type": "markdown",
   "metadata": {
    "collapsed": false
   },
   "source": []
  }
 ],
 "metadata": {
  "kernelspec": {
   "display_name": "Python 3",
   "language": "python",
   "name": "python3"
  },
  "language_info": {
   "codemirror_mode": {
    "name": "ipython",
    "version": 2
   },
   "file_extension": ".py",
   "mimetype": "text/x-python",
   "name": "python",
   "nbconvert_exporter": "python",
   "pygments_lexer": "ipython2",
   "version": "2.7.6"
  }
 },
 "nbformat": 4,
 "nbformat_minor": 0
}
